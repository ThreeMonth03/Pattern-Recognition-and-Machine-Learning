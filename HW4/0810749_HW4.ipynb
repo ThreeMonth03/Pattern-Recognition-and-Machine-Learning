{
  "cells": [
    {
      "cell_type": "code",
      "execution_count": 306,
      "metadata": {
        "id": "Z0yGksgOp91i"
      },
      "outputs": [],
      "source": [
        "import numpy as np\n",
        "import pandas as pd\n",
        "import matplotlib.pyplot as plt\n",
        "from sklearn.svm import SVC, SVR\n",
        "from sklearn.metrics import accuracy_score"
      ]
    },
    {
      "cell_type": "code",
      "execution_count": 307,
      "metadata": {
        "id": "7ZYQFbA0qMZ-"
      },
      "outputs": [],
      "source": [
        "# Load data\n",
        "x_train = np.load(\"x_train.npy\")\n",
        "y_train = np.load(\"y_train.npy\")\n",
        "x_test = np.load(\"x_test.npy\")\n",
        "y_test = np.load(\"y_test.npy\")"
      ]
    },
    {
      "cell_type": "code",
      "execution_count": 308,
      "metadata": {
        "id": "u0ewnfh6qOoM"
      },
      "outputs": [
        {
          "name": "stdout",
          "output_type": "stream",
          "text": [
            "(7000, 300)\n",
            "(7000,)\n",
            "(3000, 300)\n"
          ]
        }
      ],
      "source": [
        "# 7000 data with 300 features\n",
        "print(x_train.shape)\n",
        "print(y_train.shape)\n",
        "print(x_test.shape)"
      ]
    },
    {
      "cell_type": "code",
      "execution_count": 309,
      "metadata": {
        "id": "ryZdU0fdqTkb"
      },
      "outputs": [
        {
          "name": "stdout",
          "output_type": "stream",
          "text": [
            "[0 1]\n"
          ]
        }
      ],
      "source": [
        "# It's a binary classification problem \n",
        "print(np.unique(y_train))"
      ]
    },
    {
      "cell_type": "markdown",
      "metadata": {
        "id": "qy1aMJ7sqwwg"
      },
      "source": [
        "# Q1"
      ]
    },
    {
      "cell_type": "code",
      "execution_count": 310,
      "metadata": {
        "id": "TI26_jRbqVX3"
      },
      "outputs": [],
      "source": [
        "def cross_validation(x_train, y_train, k=5):\n",
        "    \n",
        "    # Do not modify the function name and always take 'x_train, y_train, k' as the inputs.\n",
        "\n",
        "    # TODO HERE\n",
        "    k_fold_data = []\n",
        "    \n",
        "    #shuffle\n",
        "    np.random.seed(0)\n",
        "    train_size = np.shape(x_train)[0]\n",
        "    shuffle_index = np.arange(train_size)\n",
        "    np.random.shuffle(shuffle_index)\n",
        "    for i in range(k):\n",
        "        ##Calculate boundary\n",
        "        left_bound = np.int64(i*train_size/k)\n",
        "        right_bound = np.int64((i+1)*train_size/k)\n",
        "        #Split the training data\n",
        "        x_train_fold = np.concatenate((x_train[shuffle_index[0:left_bound]],x_train[shuffle_index[right_bound:train_size]]), axis=0)\n",
        "        y_train_fold = np.reshape(np.concatenate((y_train[shuffle_index[0:left_bound]],y_train[shuffle_index[right_bound:train_size]]), axis=0),(-1,1))\n",
        "        train_fold = np.concatenate((x_train_fold, y_train_fold), axis=1)\n",
        "        x_val_fold = x_train[shuffle_index[left_bound: right_bound]]\n",
        "        y_val_fold = np.reshape(y_train[shuffle_index[left_bound: right_bound]],(-1,1))\n",
        "        val_fold = np.concatenate((x_val_fold, y_val_fold), axis=1)\n",
        "        #Pack the data\n",
        "        kth_data=[]\n",
        "        kth_data.append(train_fold)\n",
        "        kth_data.append(val_fold)\n",
        "        k_fold_data.append(kth_data)\n",
        "    return k_fold_data"
      ]
    },
    {
      "cell_type": "code",
      "execution_count": 311,
      "metadata": {
        "id": "7jTma6saqf3E"
      },
      "outputs": [],
      "source": [
        "kfold_data = cross_validation(x_train, y_train, k=10)\n",
        "assert len(kfold_data) == 10 # should contain 10 fold of data\n",
        "assert len(kfold_data[0]) == 2 # each element should contain train fold and validation fold\n",
        "assert kfold_data[0][1].shape[0] == 700 # The number of data in each validation fold should equal to training data divieded by K"
      ]
    },
    {
      "cell_type": "markdown",
      "metadata": {
        "id": "IccJcpN_q0Z0"
      },
      "source": [
        "# K-Fold Example"
      ]
    },
    {
      "cell_type": "code",
      "execution_count": 312,
      "metadata": {
        "id": "O_zT2TAzqjay"
      },
      "outputs": [
        {
          "name": "stdout",
          "output_type": "stream",
          "text": [
            "Split: 1, Training index: [ 0  1  2  3  4  5  6  7  9 12 13 14 15 16 17 19], Validation index: [ 8 10 11 18]\n",
            "Split: 2, Training index: [ 0  1  2  3  4  5  6  7  8 10 11 14 15 16 17 18], Validation index: [ 9 12 13 19]\n",
            "Split: 3, Training index: [ 2  4  5  6  7  8  9 10 11 12 13 14 16 17 18 19], Validation index: [ 0  1  3 15]\n",
            "Split: 4, Training index: [ 0  1  3  7  8  9 10 11 12 13 14 15 16 17 18 19], Validation index: [2 4 5 6]\n",
            "Split: 5, Training index: [ 0  1  2  3  4  5  6  8  9 10 11 12 13 15 18 19], Validation index: [ 7 14 16 17]\n"
          ]
        }
      ],
      "source": [
        "from sklearn.model_selection import KFold\n",
        "\n",
        "X = np.arange(20)\n",
        "\n",
        "kf = KFold(n_splits=5, shuffle=True)\n",
        "kfold_data= []\n",
        "for i, (train_index, val_index) in enumerate(kf.split(X)):\n",
        "    print(\"Split: %s, Training index: %s, Validation index: %s\" % (i+1, train_index, val_index))\n",
        "    kfold_data.append([train_index, val_index])"
      ]
    },
    {
      "cell_type": "code",
      "execution_count": 313,
      "metadata": {
        "id": "lYCTmie5qnow"
      },
      "outputs": [],
      "source": [
        "assert len(kfold_data) == 5 # should contain 5 fold of data\n",
        "assert len(kfold_data[0]) == 2 # each element should contains index of training fold and validation fold\n",
        "assert kfold_data[0][1].shape[0] == 4 # The number of data in each validation fold should equal to training data divieded by K"
      ]
    },
    {
      "cell_type": "markdown",
      "metadata": {
        "id": "Gh-DQiNiq5v0"
      },
      "source": [
        "## Q2"
      ]
    },
    {
      "cell_type": "code",
      "execution_count": 314,
      "metadata": {
        "id": "31V1fW7Qq6la"
      },
      "outputs": [],
      "source": [
        "# (Example) Using SVC from sklearn\n",
        "\n",
        "clf = SVC(C=1.0, gamma=0.01, kernel='rbf')"
      ]
    },
    {
      "cell_type": "code",
      "execution_count": 315,
      "metadata": {
        "id": "VzBT0t6Yq_Dj"
      },
      "outputs": [],
      "source": [
        "best_c, best_gamma = None, None\n",
        "\n",
        "# TODO HERE\n",
        "# k-Flod Cross Validation and Grid Search\n",
        "#def accuracy_score(y, y_pred):\n",
        "#    return (y_pred == y).sum()/np.shape(y)[0]\n",
        "\n",
        "def grid_search( x_train, y_train, c, gamma, k):\n",
        "    best_c, best_gamma, best_acc = None, None, 0\n",
        "    kfold_data = cross_validation(x_train, y_train, k)\n",
        "    total_acc = np.zeros((len(c),len(gamma)))\n",
        "    for i_th ,c_ in enumerate(c):\n",
        "        #print(\"i_th: \", i_th)\n",
        "        for j_th, gamma_ in enumerate(gamma):\n",
        "            #print(\"j_th: \", j_th)\n",
        "            k_fold_acc = np.zeros(k)\n",
        "            for k_th , k_th_data in enumerate(kfold_data):\n",
        "                k_train = k_th_data[0]\n",
        "                k_val = k_th_data[1]\n",
        "                clf = SVC(C=c_, gamma=gamma_, kernel='rbf')\n",
        "                clf.fit(k_train[:,0:-1], np.reshape(k_train[:,-1],-1))\n",
        "                y_pred = clf.predict(k_val[:,0:-1])\n",
        "                k_fold_acc[k_th] = accuracy_score(np.reshape(k_val[:,-1],-1), y_pred)\n",
        "            total_acc[i_th][j_th] = np.average(k_fold_acc)\n",
        "            #print(\"total_acc[i_th][j_th]: \", total_acc[i_th][j_th])\n",
        "            if total_acc[i_th][j_th] >= best_acc:\n",
        "                best_c = c_\n",
        "                best_gamma = gamma_\n",
        "                best_acc = total_acc[i_th][j_th]\n",
        "    return best_c, best_gamma , total_acc\n",
        "\n",
        "c = [0.01, 0.1, 1, 10, 100, 1000, 10000]\n",
        "gamma = [1e-4, 1e-3, 0.01, 0.1, 1, 10, 100, 1000]\n",
        "#c = [100, 1000]\n",
        "#gamma = [10, 100]\n",
        "k = 5\n",
        "best_c, best_gamma , total_acc = grid_search(x_train, y_train, c, gamma, 5)\n",
        "best_parameters=(best_c, best_gamma)\n",
        "#print(total_acc)"
      ]
    },
    {
      "cell_type": "code",
      "execution_count": 316,
      "metadata": {
        "id": "mGTyHMFgrAXd"
      },
      "outputs": [
        {
          "name": "stdout",
          "output_type": "stream",
          "text": [
            "(best_c, best_gamma) is  (10000, 0.0001)\n"
          ]
        }
      ],
      "source": [
        "print(\"(best_c, best_gamma) is \", best_parameters)"
      ]
    },
    {
      "cell_type": "markdown",
      "metadata": {
        "id": "KbPoOy0lrDPJ"
      },
      "source": [
        "# Q3"
      ]
    },
    {
      "cell_type": "code",
      "execution_count": 317,
      "metadata": {
        "id": "ibuxQOEQrEgJ"
      },
      "outputs": [
        {
          "data": {
            "image/png": "[encoded data removed]",
            "text/plain": [
              "<Figure size 432x288 with 2 Axes>"
            ]
          },
          "metadata": {
            "needs_background": "light"
          },
          "output_type": "display_data"
        }
      ],
      "source": [
        "# Plot the grid search results of your SVM\n",
        "\n",
        "# TODO HERE\n",
        "def show_grid_search(c, gamma, total_acc):\n",
        "    threshold = (np.max(total_acc)+np.min(total_acc))/2\n",
        "    color_range = (np.max(total_acc)-np.min(total_acc))/2\n",
        "    plt.imshow(total_acc,interpolation='nearest',cmap=plt.cm.RdBu)\n",
        "    plt.title(\"Hyperparameter Gridsearch\")\n",
        "    plt.colorbar()\n",
        "    \n",
        "    tick_index_gamma = np.arange(len(gamma))\n",
        "    tick_index_c = np.arange(len(c))\n",
        "    \n",
        "    plt.xticks(tick_index_gamma,gamma)\n",
        "    plt.yticks(tick_index_c,c, rotation=90)\n",
        "    for i in range(total_acc.shape[0]):\n",
        "      for j in range(total_acc.shape[1]):\n",
        "        plt.text(j,i,format(total_acc[i,j], '.2f'),horizontalalignment=\"center\",color=\"black\" if ((total_acc[i,j] > (threshold-color_range))&(total_acc[i,j] < (threshold+color_range))) else \"white\")\n",
        "    plt.tight_layout()\n",
        "    plt.xlabel(\"Gamma Parameter\")\n",
        "    plt.ylabel(\"C Parameter\")\n",
        "    plt.show()\n",
        "\n",
        "show_grid_search(c, gamma, total_acc)"
      ]
    },
    {
      "cell_type": "markdown",
      "metadata": {
        "id": "QVA-It-4rM9Q"
      },
      "source": [
        "## Q4"
      ]
    },
    {
      "cell_type": "code",
      "execution_count": 318,
      "metadata": {
        "id": "Zl963HdLrMKg"
      },
      "outputs": [
        {
          "name": "stdout",
          "output_type": "stream",
          "text": [
            "Accuracy score:  0.995\n"
          ]
        }
      ],
      "source": [
        "# Do Not Modify Below\n",
        "\n",
        "best_model = SVC(C=best_parameters[0], gamma=best_parameters[1], kernel='rbf')\n",
        "best_model.fit(x_train, y_train)\n",
        "\n",
        "y_pred = best_model.predict(x_test)\n",
        "\n",
        "print(\"Accuracy score: \", accuracy_score(y_pred, y_test))\n",
        "\n",
        "# If your accuracy here > 0.9 then you will get full credit (20 points)."
      ]
    }
  ],
  "metadata": {
    "colab": {
      "provenance": []
    },
    "kernelspec": {
      "display_name": "Python 3",
      "name": "python3"
    },
    "language_info": {
      "codemirror_mode": {
        "name": "ipython",
        "version": 3
      },
      "file_extension": ".py",
      "mimetype": "text/x-python",
      "name": "python",
      "nbconvert_exporter": "python",
      "pygments_lexer": "ipython3",
      "version": "3.10.11"
    }
  },
  "nbformat": 4,
  "nbformat_minor": 0
}
